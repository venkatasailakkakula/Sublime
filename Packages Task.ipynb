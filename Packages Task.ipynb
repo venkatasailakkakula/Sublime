{
 "cells": [
  {
   "cell_type": "code",
   "execution_count": 13,
   "metadata": {},
   "outputs": [],
   "source": [
    "from PACKAGE import logics"
   ]
  },
  {
   "cell_type": "code",
   "execution_count": 18,
   "metadata": {},
   "outputs": [],
   "source": [
    "from PACKAGE.logics import Calci as c"
   ]
  },
  {
   "cell_type": "code",
   "execution_count": 19,
   "metadata": {},
   "outputs": [
    {
     "name": "stdout",
     "output_type": "stream",
     "text": [
      "Enter the value of n1:15\n",
      "Enter the value of n2:3\n"
     ]
    }
   ],
   "source": [
    "n1=int(input(\"Enter the value of n1:\"))\n",
    "n2=int(input(\"Enter the value of n2:\"))"
   ]
  },
  {
   "cell_type": "code",
   "execution_count": 22,
   "metadata": {},
   "outputs": [
    {
     "name": "stdout",
     "output_type": "stream",
     "text": [
      "Addition of 15 and 3 is:  18\n",
      "Subtraction of 15 and 3 is:  12\n",
      "Multiplication of 15 and 3 is:  45\n",
      "Division of 15 and 3 is:  5.0\n"
     ]
    }
   ],
   "source": [
    "print(\"Addition of\",n1,\"and\",n2,\"is: \",c.add(n1,n2))\n",
    "print(\"Subtraction of\",n1,\"and\",n2,\"is: \",c.sub(n1,n2))\n",
    "print(\"Multiplication of\",n1,\"and\",n2,\"is: \",c.mul(n1,n2))\n",
    "print(\"Division of\",n1,\"and\",n2,\"is: \",c.div(n1,n2))"
   ]
  },
  {
   "cell_type": "code",
   "execution_count": null,
   "metadata": {},
   "outputs": [],
   "source": []
  }
 ],
 "metadata": {
  "kernelspec": {
   "display_name": "Python 3",
   "language": "python",
   "name": "python3"
  },
  "language_info": {
   "codemirror_mode": {
    "name": "ipython",
    "version": 3
   },
   "file_extension": ".py",
   "mimetype": "text/x-python",
   "name": "python",
   "nbconvert_exporter": "python",
   "pygments_lexer": "ipython3",
   "version": "3.8.5"
  }
 },
 "nbformat": 4,
 "nbformat_minor": 4
}
