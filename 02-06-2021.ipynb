{
 "cells": [
  {
   "cell_type": "markdown",
   "metadata": {},
   "source": [
    "# Strings:\n",
    "\n",
    " - It can be represented with in a ' or \" and we can represent other data types enclosed with ' or \"\n",
    "    \n",
    " - It can be typecasted as str()\n",
    "\n",
    " - It has index and slicing can be done\n",
    "    \n",
    " - It can be changes thr character but it doesnot effect the original string"
   ]
  },
  {
   "cell_type": "code",
   "execution_count": 6,
   "metadata": {},
   "outputs": [
    {
     "name": "stdout",
     "output_type": "stream",
     "text": [
      "APSSDC INTERNSHIP\n",
      "I\n",
      "H\n",
      "APSSDC INTERNSHIP\n",
      "SDC INTERNSHIP\n",
      "APSSDC INT\n",
      "C INTER\n",
      "PSSDC INTER\n",
      "TERNS\n",
      "E\n",
      "ERNS\n",
      "APSSDC INTERNSHIP\n",
      "APSSDC INTERNSHIP\n",
      "ASD NENHP\n",
      "PHNEN DSA\n",
      "CNRH\n",
      "EIDP\n"
     ]
    }
   ],
   "source": [
    "n=\"APSSDC INTERNSHIP\"\n",
    "print(n)\n",
    "print(n[7])\n",
    "print(n[-3])\n",
    "print(n[:])\n",
    "print(n[3:])\n",
    "print(n[:10])\n",
    "print(n[5:12])\n",
    "print(n[1:-5])\n",
    "print(n[9:-3])\n",
    "print(n[-7:11])\n",
    "print(n[-7:-3])\n",
    "print(n)\n",
    "print(n[::])\n",
    "print(n[::2])\n",
    "print(n[::-2])\n",
    "print(n[5::3])\n",
    "print(n[10::-3])"
   ]
  },
  {
   "cell_type": "code",
   "execution_count": 21,
   "metadata": {},
   "outputs": [
    {
     "name": "stdout",
     "output_type": "stream",
     "text": [
      "APSSDC INTERNSHIP\n",
      "APSSDC INTERNSHIP\n",
      "ASD NENHP\n",
      "PSEIDP\n",
      "CNRH\n",
      "EIDP\n",
      " INT\n",
      "RNS\n",
      "INTER\n",
      "CN\n",
      "CIT\n"
     ]
    }
   ],
   "source": [
    "print(n)\n",
    "print(n[::])\n",
    "print(n[::2])\n",
    "print(n[::-3])\n",
    "print(n[5::3])\n",
    "print(n[10::-3])\n",
    "print(n[6:10:])\n",
    "print(n[-6:14:])\n",
    "print(n[-10:-5:])\n",
    "print(n[5:10:3])\n",
    "print(n[5:-7:2])"
   ]
  },
  {
   "cell_type": "code",
   "execution_count": 41,
   "metadata": {},
   "outputs": [
    {
     "name": "stdout",
     "output_type": "stream",
     "text": [
      "23456789098765432 <class 'str'>\n",
      "23456789098765432 <class 'int'>\n"
     ]
    }
   ],
   "source": [
    "m=str(23456789098765432)\n",
    "print(m,type(m))\n",
    "k=int(m[::1])\n",
    "print(k,type(k))"
   ]
  },
  {
   "cell_type": "code",
   "execution_count": 23,
   "metadata": {},
   "outputs": [
    {
     "name": "stdout",
     "output_type": "stream",
     "text": [
      "APSSDC Programs\n",
      "AP SSDC Progra ms\n"
     ]
    }
   ],
   "source": [
    "n=input()\n",
    "print(n[0:2]+\" \"+n[2:-2]+\" \"+n[-2:])"
   ]
  },
  {
   "cell_type": "code",
   "execution_count": 24,
   "metadata": {},
   "outputs": [
    {
     "name": "stdout",
     "output_type": "stream",
     "text": [
      "ms\n"
     ]
    }
   ],
   "source": [
    "m=\"APSSDC Programs\"\n",
    "print(m[-2:])"
   ]
  },
  {
   "cell_type": "code",
   "execution_count": 29,
   "metadata": {},
   "outputs": [
    {
     "data": {
      "text/plain": [
       "['__add__',\n",
       " '__class__',\n",
       " '__contains__',\n",
       " '__delattr__',\n",
       " '__dir__',\n",
       " '__doc__',\n",
       " '__eq__',\n",
       " '__format__',\n",
       " '__ge__',\n",
       " '__getattribute__',\n",
       " '__getitem__',\n",
       " '__getnewargs__',\n",
       " '__gt__',\n",
       " '__hash__',\n",
       " '__init__',\n",
       " '__init_subclass__',\n",
       " '__iter__',\n",
       " '__le__',\n",
       " '__len__',\n",
       " '__lt__',\n",
       " '__mod__',\n",
       " '__mul__',\n",
       " '__ne__',\n",
       " '__new__',\n",
       " '__reduce__',\n",
       " '__reduce_ex__',\n",
       " '__repr__',\n",
       " '__rmod__',\n",
       " '__rmul__',\n",
       " '__setattr__',\n",
       " '__sizeof__',\n",
       " '__str__',\n",
       " '__subclasshook__',\n",
       " 'capitalize',\n",
       " 'casefold',\n",
       " 'center',\n",
       " 'count',\n",
       " 'encode',\n",
       " 'endswith',\n",
       " 'expandtabs',\n",
       " 'find',\n",
       " 'format',\n",
       " 'format_map',\n",
       " 'index',\n",
       " 'isalnum',\n",
       " 'isalpha',\n",
       " 'isascii',\n",
       " 'isdecimal',\n",
       " 'isdigit',\n",
       " 'isidentifier',\n",
       " 'islower',\n",
       " 'isnumeric',\n",
       " 'isprintable',\n",
       " 'isspace',\n",
       " 'istitle',\n",
       " 'isupper',\n",
       " 'join',\n",
       " 'ljust',\n",
       " 'lower',\n",
       " 'lstrip',\n",
       " 'maketrans',\n",
       " 'partition',\n",
       " 'replace',\n",
       " 'rfind',\n",
       " 'rindex',\n",
       " 'rjust',\n",
       " 'rpartition',\n",
       " 'rsplit',\n",
       " 'rstrip',\n",
       " 'split',\n",
       " 'splitlines',\n",
       " 'startswith',\n",
       " 'strip',\n",
       " 'swapcase',\n",
       " 'title',\n",
       " 'translate',\n",
       " 'upper',\n",
       " 'zfill']"
      ]
     },
     "execution_count": 29,
     "metadata": {},
     "output_type": "execute_result"
    }
   ],
   "source": [
    "dir(str)"
   ]
  },
  {
   "cell_type": "code",
   "execution_count": 32,
   "metadata": {},
   "outputs": [
    {
     "name": "stdout",
     "output_type": "stream",
     "text": [
      "Welcome to APSSDC Programs\n",
      "Welcome to apssdc programs\n",
      "welcome to apssdc programs\n",
      "Welcome To Apssdc Programs\n",
      "wELCOME TO apssdc pROGRAMS\n"
     ]
    }
   ],
   "source": [
    "b=\"Welcome to APSSDC Programs\"\n",
    "print(b)\n",
    "print(b.capitalize())\n",
    "print(b.casefold())\n",
    "print(b.title())\n",
    "print(b.swapcase())"
   ]
  },
  {
   "cell_type": "code",
   "execution_count": 34,
   "metadata": {},
   "outputs": [
    {
     "name": "stdout",
     "output_type": "stream",
     "text": [
      "Welcome to APSSDC Programs\n",
      "WELCOME TO APSSDC PROGRAMS\n",
      "welcome to apssdc programs\n",
      "True\n",
      "True\n"
     ]
    }
   ],
   "source": [
    "print(b)\n",
    "print(b.upper())\n",
    "print(b.lower())\n",
    "print(b.startswith('W'))                    \n",
    "print(b.endswith('s'))\n"
   ]
  },
  {
   "cell_type": "code",
   "execution_count": 45,
   "metadata": {},
   "outputs": [
    {
     "name": "stdout",
     "output_type": "stream",
     "text": [
      "Welcome to APSSDC Programs\n",
      "['Welcome', 'to', 'APSSDC', 'Programs']\n",
      "['W', 'lcom', ' to APSSDC Programs']\n",
      "2\n",
      "1\n",
      "-1\n",
      "6\n",
      "-1\n"
     ]
    }
   ],
   "source": [
    "print(b)\n",
    "print(b.split())\n",
    "print(b.split('e'))\n",
    "print(b.count('e'))\n",
    "print(b.find('e'))\n",
    "print(b.find('z'))\n",
    "print(b.rfind('e'))\n",
    "print(b.rfind('z'))"
   ]
  },
  {
   "cell_type": "code",
   "execution_count": 42,
   "metadata": {},
   "outputs": [
    {
     "name": "stdout",
     "output_type": "stream",
     "text": [
      "lls vs lvs \n",
      "['lls', 'vs', 'lvs']\n"
     ]
    }
   ],
   "source": [
    "n=input().split()\n",
    "print(n)"
   ]
  },
  {
   "cell_type": "code",
   "execution_count": 48,
   "metadata": {},
   "outputs": [
    {
     "name": "stdout",
     "output_type": "stream",
     "text": [
      "   Sample \n",
      "Ramu    \n",
      "Sample\n",
      "Ramu\n",
      "Sample \n",
      "Ramu\n"
     ]
    }
   ],
   "source": [
    "d=\"   Sample \"\n",
    "e=\"Ramu    \"\n",
    "print(d)\n",
    "print(e)\n",
    "print(d.strip())\n",
    "print(e.strip())\n",
    "print(d.lstrip())\n",
    "print(e.rstrip())"
   ]
  },
  {
   "cell_type": "code",
   "execution_count": 52,
   "metadata": {},
   "outputs": [
    {
     "name": "stdout",
     "output_type": "stream",
     "text": [
      "   Sample \n",
      "   Sample                                         \n",
      "Ramu                                              \n",
      "                                                               Sample \n",
      "                                                              Ramu    \n"
     ]
    }
   ],
   "source": [
    "print(d)\n",
    "print(d.ljust(50))\n",
    "print(e.ljust(50))\n",
    "print(d.rjust(70))\n",
    "print(e.rjust(70))"
   ]
  },
  {
   "cell_type": "code",
   "execution_count": 53,
   "metadata": {},
   "outputs": [
    {
     "name": "stdout",
     "output_type": "stream",
     "text": [
      "00000000000000Sample\n"
     ]
    }
   ],
   "source": [
    "f=\"Sample\"\n",
    "print(f.zfill(20))"
   ]
  },
  {
   "cell_type": "code",
   "execution_count": 56,
   "metadata": {},
   "outputs": [
    {
     "name": "stdout",
     "output_type": "stream",
     "text": [
      "APSSDC\n",
      "apssdc\n",
      "APSSDC\n"
     ]
    }
   ],
   "source": [
    "z=\"APSSDC\"\n",
    "p=z.lower()\n",
    "f=z.upper()\n",
    "print(z)\n",
    "print(p)\n",
    "print(f)"
   ]
  },
  {
   "cell_type": "code",
   "execution_count": 64,
   "metadata": {},
   "outputs": [
    {
     "name": "stdout",
     "output_type": "stream",
     "text": [
      "APSSDC\n",
      "ZPSSDC\n"
     ]
    }
   ],
   "source": [
    "print(z)\n",
    "print(z.replace('A','Z'))\n",
    "g=f.zfill(20)"
   ]
  },
  {
   "cell_type": "code",
   "execution_count": 66,
   "metadata": {},
   "outputs": [
    {
     "name": "stdout",
     "output_type": "stream",
     "text": [
      "Ramesh\n",
      "R a m e s h\n"
     ]
    }
   ],
   "source": [
    "\n",
    "k=\"Ramesh\"\n",
    "a=\" \".join(k)\n",
    "print(k)\n",
    "print(a)"
   ]
  },
  {
   "cell_type": "code",
   "execution_count": 68,
   "metadata": {},
   "outputs": [
    {
     "name": "stdout",
     "output_type": "stream",
     "text": [
      "['34', '45', '786']\n",
      "34-45-786\n"
     ]
    }
   ],
   "source": [
    "t=[\"34\",'45','786']\n",
    "g=\"-\".join(t)\n",
    "print(t)\n",
    "print(g)"
   ]
  },
  {
   "cell_type": "code",
   "execution_count": 70,
   "metadata": {},
   "outputs": [
    {
     "name": "stdout",
     "output_type": "stream",
     "text": [
      "19kq1a0550-LLS-PACE 120\n",
      "LLS 120\n"
     ]
    }
   ],
   "source": [
    "n=input().split(\"-\")\n",
    "p=n[2].split()\n",
    "print(n[1]+\" \"+p[1])\n"
   ]
  },
  {
   "cell_type": "code",
   "execution_count": 72,
   "metadata": {},
   "outputs": [
    {
     "name": "stdout",
     "output_type": "stream",
     "text": [
      "True\n",
      "False\n"
     ]
    }
   ],
   "source": [
    "u=\"123sfgt\"\n",
    "print(u.isalnum())\n",
    "print(u.isalpha())"
   ]
  },
  {
   "cell_type": "code",
   "execution_count": null,
   "metadata": {},
   "outputs": [],
   "source": [
    "o=input()\n",
    "print(\"Given string is:\",o)"
   ]
  },
  {
   "cell_type": "code",
   "execution_count": 11,
   "metadata": {},
   "outputs": [
    {
     "name": "stdout",
     "output_type": "stream",
     "text": [
      "Given string is:1234hsgyuuwqu\n"
     ]
    }
   ],
   "source": [
    "a=input(\"Given string is:\")\n",
    "if(a>='A' and a<='Z' or a>='a' and a<='z'):\n",
    "        print(\"Alphabets in a is:\",a)"
   ]
  },
  {
   "cell_type": "code",
   "execution_count": 12,
   "metadata": {},
   "outputs": [
    {
     "data": {
      "text/plain": [
       "['__add__',\n",
       " '__class__',\n",
       " '__contains__',\n",
       " '__delattr__',\n",
       " '__dir__',\n",
       " '__doc__',\n",
       " '__eq__',\n",
       " '__format__',\n",
       " '__ge__',\n",
       " '__getattribute__',\n",
       " '__getitem__',\n",
       " '__getnewargs__',\n",
       " '__gt__',\n",
       " '__hash__',\n",
       " '__init__',\n",
       " '__init_subclass__',\n",
       " '__iter__',\n",
       " '__le__',\n",
       " '__len__',\n",
       " '__lt__',\n",
       " '__mod__',\n",
       " '__mul__',\n",
       " '__ne__',\n",
       " '__new__',\n",
       " '__reduce__',\n",
       " '__reduce_ex__',\n",
       " '__repr__',\n",
       " '__rmod__',\n",
       " '__rmul__',\n",
       " '__setattr__',\n",
       " '__sizeof__',\n",
       " '__str__',\n",
       " '__subclasshook__',\n",
       " 'capitalize',\n",
       " 'casefold',\n",
       " 'center',\n",
       " 'count',\n",
       " 'encode',\n",
       " 'endswith',\n",
       " 'expandtabs',\n",
       " 'find',\n",
       " 'format',\n",
       " 'format_map',\n",
       " 'index',\n",
       " 'isalnum',\n",
       " 'isalpha',\n",
       " 'isascii',\n",
       " 'isdecimal',\n",
       " 'isdigit',\n",
       " 'isidentifier',\n",
       " 'islower',\n",
       " 'isnumeric',\n",
       " 'isprintable',\n",
       " 'isspace',\n",
       " 'istitle',\n",
       " 'isupper',\n",
       " 'join',\n",
       " 'ljust',\n",
       " 'lower',\n",
       " 'lstrip',\n",
       " 'maketrans',\n",
       " 'partition',\n",
       " 'replace',\n",
       " 'rfind',\n",
       " 'rindex',\n",
       " 'rjust',\n",
       " 'rpartition',\n",
       " 'rsplit',\n",
       " 'rstrip',\n",
       " 'split',\n",
       " 'splitlines',\n",
       " 'startswith',\n",
       " 'strip',\n",
       " 'swapcase',\n",
       " 'title',\n",
       " 'translate',\n",
       " 'upper',\n",
       " 'zfill']"
      ]
     },
     "execution_count": 12,
     "metadata": {},
     "output_type": "execute_result"
    }
   ],
   "source": [
    "dir(str)\n"
   ]
  },
  {
   "cell_type": "code",
   "execution_count": 7,
   "metadata": {},
   "outputs": [
    {
     "name": "stdout",
     "output_type": "stream",
     "text": [
      "Given string is12345ABCabc@#$%&\n",
      "Alphabtes in  12345ABCabc@#$%& is:  A B C a b c\n",
      "Digits in  12345ABCabc@#$%& is:  1 2 3 4 5\n",
      "Special symbols in  12345ABCabc@#$%& is:  @ # $ % &\n"
     ]
    }
   ],
   "source": [
    "m=input(\"Given string is\")\n",
    "a1=[]\n",
    "a2=[]\n",
    "a3=[]\n",
    "for i in m:\n",
    "    if(i.isalpha()):\n",
    "        a1.append(i)\n",
    "    elif(i.isdigit()):\n",
    "        a2.append(i)\n",
    "    else:\n",
    "        a3.append(i)\n",
    "b=\" \".join(a1)\n",
    "c=\" \".join(a2)\n",
    "d=\" \".join(a3)\n",
    "print(\"Alphabtes in \",m,\"is: \",b)\n",
    "print(\"Digits in \",m,\"is: \",c)\n",
    "print(\"Special symbols in \",m,\"is: \",d)"
   ]
  },
  {
   "cell_type": "code",
   "execution_count": null,
   "metadata": {},
   "outputs": [],
   "source": []
  }
 ],
 "metadata": {
  "kernelspec": {
   "display_name": "Python 3",
   "language": "python",
   "name": "python3"
  },
  "language_info": {
   "codemirror_mode": {
    "name": "ipython",
    "version": 3
   },
   "file_extension": ".py",
   "mimetype": "text/x-python",
   "name": "python",
   "nbconvert_exporter": "python",
   "pygments_lexer": "ipython3",
   "version": "3.8.5"
  }
 },
 "nbformat": 4,
 "nbformat_minor": 4
}
