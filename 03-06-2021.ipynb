{
 "cells": [
  {
   "cell_type": "markdown",
   "metadata": {},
   "source": [
    "# Set:"
   ]
  },
  {
   "cell_type": "code",
   "execution_count": 3,
   "metadata": {},
   "outputs": [
    {
     "name": "stdout",
     "output_type": "stream",
     "text": [
      "{450, 45, 'a', 'Ramu', 120, 155}\n"
     ]
    }
   ],
   "source": [
    "g={45,'a',45,120,155,450,'Ramu'}\n",
    "print(g)"
   ]
  },
  {
   "cell_type": "code",
   "execution_count": 4,
   "metadata": {},
   "outputs": [
    {
     "data": {
      "text/plain": [
       "{120, 155, 45, 450, 'Ramu', 'a'}"
      ]
     },
     "execution_count": 4,
     "metadata": {},
     "output_type": "execute_result"
    }
   ],
   "source": [
    "g"
   ]
  },
  {
   "cell_type": "code",
   "execution_count": 5,
   "metadata": {},
   "outputs": [
    {
     "name": "stdout",
     "output_type": "stream",
     "text": [
      "{} <class 'dict'>\n",
      "{2} <class 'set'>\n"
     ]
    }
   ],
   "source": [
    "h={}\n",
    "m={2}\n",
    "print(h,type(h))\n",
    "print(m,type(m))"
   ]
  },
  {
   "cell_type": "code",
   "execution_count": 6,
   "metadata": {},
   "outputs": [
    {
     "name": "stdout",
     "output_type": "stream",
     "text": [
      "['__and__', '__class__', '__contains__', '__delattr__', '__dir__', '__doc__', '__eq__', '__format__', '__ge__', '__getattribute__', '__gt__', '__hash__', '__iand__', '__init__', '__init_subclass__', '__ior__', '__isub__', '__iter__', '__ixor__', '__le__', '__len__', '__lt__', '__ne__', '__new__', '__or__', '__rand__', '__reduce__', '__reduce_ex__', '__repr__', '__ror__', '__rsub__', '__rxor__', '__setattr__', '__sizeof__', '__str__', '__sub__', '__subclasshook__', '__xor__', 'add', 'clear', 'copy', 'difference', 'difference_update', 'discard', 'intersection', 'intersection_update', 'isdisjoint', 'issubset', 'issuperset', 'pop', 'remove', 'symmetric_difference', 'symmetric_difference_update', 'union', 'update']\n"
     ]
    }
   ],
   "source": [
    "print(dir(set))"
   ]
  },
  {
   "cell_type": "code",
   "execution_count": 7,
   "metadata": {},
   "outputs": [
    {
     "name": "stdout",
     "output_type": "stream",
     "text": [
      "{'ramu', 0, 34, 67, 'lvs', 'lls'}\n"
     ]
    }
   ],
   "source": [
    "s1={34,67,'ramu',0,'lls'}\n",
    "s1.add('lvs')\n",
    "print(s1)"
   ]
  },
  {
   "cell_type": "code",
   "execution_count": 9,
   "metadata": {},
   "outputs": [
    {
     "name": "stdout",
     "output_type": "stream",
     "text": [
      "{'ramu', 0, 34, 67, 'lvs', 'lls'}\n",
      "{0, 34, 67, 'lvs', 'lls'}\n"
     ]
    }
   ],
   "source": [
    "print(s1)\n",
    "s1.pop()\n",
    "print(s1)"
   ]
  },
  {
   "cell_type": "code",
   "execution_count": 10,
   "metadata": {},
   "outputs": [
    {
     "name": "stdout",
     "output_type": "stream",
     "text": [
      "{0, 34, 67, 'lvs', 'lls'}\n",
      "{34, 67, 'lvs', 'lls'}\n"
     ]
    }
   ],
   "source": [
    "print(s1)\n",
    "s1.pop()\n",
    "print(s1)"
   ]
  },
  {
   "cell_type": "code",
   "execution_count": 11,
   "metadata": {},
   "outputs": [
    {
     "name": "stdout",
     "output_type": "stream",
     "text": [
      "{34, 67, 'lvs', 'lls'}\n"
     ]
    },
    {
     "ename": "TypeError",
     "evalue": "pop() takes no arguments (1 given)",
     "output_type": "error",
     "traceback": [
      "\u001b[1;31m---------------------------------------------------------------------------\u001b[0m",
      "\u001b[1;31mTypeError\u001b[0m                                 Traceback (most recent call last)",
      "\u001b[1;32m<ipython-input-11-865a68f239e9>\u001b[0m in \u001b[0;36m<module>\u001b[1;34m\u001b[0m\n\u001b[0;32m      1\u001b[0m \u001b[0mprint\u001b[0m\u001b[1;33m(\u001b[0m\u001b[0ms1\u001b[0m\u001b[1;33m)\u001b[0m\u001b[1;33m\u001b[0m\u001b[1;33m\u001b[0m\u001b[0m\n\u001b[1;32m----> 2\u001b[1;33m \u001b[0ms1\u001b[0m\u001b[1;33m.\u001b[0m\u001b[0mpop\u001b[0m\u001b[1;33m(\u001b[0m\u001b[1;34m'lls'\u001b[0m\u001b[1;33m)\u001b[0m\u001b[1;33m\u001b[0m\u001b[1;33m\u001b[0m\u001b[0m\n\u001b[0m\u001b[0;32m      3\u001b[0m \u001b[0mprint\u001b[0m\u001b[1;33m(\u001b[0m\u001b[0ms1\u001b[0m\u001b[1;33m)\u001b[0m\u001b[1;33m\u001b[0m\u001b[1;33m\u001b[0m\u001b[0m\n",
      "\u001b[1;31mTypeError\u001b[0m: pop() takes no arguments (1 given)"
     ]
    }
   ],
   "source": [
    "print(s1)\n",
    "s1.pop('lls')\n",
    "print(s1)"
   ]
  },
  {
   "cell_type": "code",
   "execution_count": 12,
   "metadata": {},
   "outputs": [
    {
     "name": "stdout",
     "output_type": "stream",
     "text": [
      "{34, 67, 'lvs', 'lls'}\n",
      "{34, 67, 'lls'}\n"
     ]
    }
   ],
   "source": [
    "\n",
    "print(s1)\n",
    "s1.remove('lvs')\n",
    "print(s1)"
   ]
  },
  {
   "cell_type": "code",
   "execution_count": 13,
   "metadata": {},
   "outputs": [
    {
     "name": "stdout",
     "output_type": "stream",
     "text": [
      "{34, 67, 'lls'}\n"
     ]
    },
    {
     "ename": "KeyError",
     "evalue": "2",
     "output_type": "error",
     "traceback": [
      "\u001b[1;31m---------------------------------------------------------------------------\u001b[0m",
      "\u001b[1;31mKeyError\u001b[0m                                  Traceback (most recent call last)",
      "\u001b[1;32m<ipython-input-13-4f9f14db1426>\u001b[0m in \u001b[0;36m<module>\u001b[1;34m\u001b[0m\n\u001b[0;32m      1\u001b[0m \u001b[0mprint\u001b[0m\u001b[1;33m(\u001b[0m\u001b[0ms1\u001b[0m\u001b[1;33m)\u001b[0m\u001b[1;33m\u001b[0m\u001b[1;33m\u001b[0m\u001b[0m\n\u001b[1;32m----> 2\u001b[1;33m \u001b[0ms1\u001b[0m\u001b[1;33m.\u001b[0m\u001b[0mremove\u001b[0m\u001b[1;33m(\u001b[0m\u001b[1;36m2\u001b[0m\u001b[1;33m)\u001b[0m\u001b[1;33m\u001b[0m\u001b[1;33m\u001b[0m\u001b[0m\n\u001b[0m\u001b[0;32m      3\u001b[0m \u001b[0mprint\u001b[0m\u001b[1;33m(\u001b[0m\u001b[0ms1\u001b[0m\u001b[1;33m)\u001b[0m\u001b[1;33m\u001b[0m\u001b[1;33m\u001b[0m\u001b[0m\n",
      "\u001b[1;31mKeyError\u001b[0m: 2"
     ]
    }
   ],
   "source": [
    "print(s1)\n",
    "s1.remove(2)\n",
    "print(s1)"
   ]
  },
  {
   "cell_type": "code",
   "execution_count": 14,
   "metadata": {},
   "outputs": [
    {
     "name": "stdout",
     "output_type": "stream",
     "text": [
      "{32, 5, 6, 8, 45}\n",
      "{1, 2, 5, 6, 7, 456, 123}\n",
      "{32, 1, 2, 5, 6, 7, 456, 8, 45, 123}\n",
      "{32, 5, 6, 8, 45}\n",
      "{1, 2, 5, 6, 7, 456, 123}\n"
     ]
    }
   ],
   "source": [
    "s2={45,8,32,5,6}\n",
    "s3={1,2,5,7,6,123,456}\n",
    "print(s2)\n",
    "print(s3)\n",
    "print(s3.union(s2))\n",
    "print(s2)\n",
    "print(s3)"
   ]
  },
  {
   "cell_type": "code",
   "execution_count": 15,
   "metadata": {},
   "outputs": [
    {
     "name": "stdout",
     "output_type": "stream",
     "text": [
      "{32, 5, 6, 8, 45}\n",
      "{1, 2, 5, 6, 7, 456, 123}\n",
      "{5, 6}\n",
      "{32, 5, 6, 8, 45}\n",
      "{1, 2, 5, 6, 7, 456, 123}\n"
     ]
    }
   ],
   "source": [
    "s2={45,8,32,5,6}\n",
    "s3={1,2,5,7,6,123,456}\n",
    "print(s2)\n",
    "print(s3)\n",
    "print(s3.intersection(s2))\n",
    "print(s2)\n",
    "print(s3)"
   ]
  },
  {
   "cell_type": "markdown",
   "metadata": {},
   "source": [
    "# Dictionary:"
   ]
  },
  {
   "cell_type": "code",
   "execution_count": 17,
   "metadata": {},
   "outputs": [
    {
     "name": "stdout",
     "output_type": "stream",
     "text": [
      "{'name': ('ramu', 'suresh', 'lls'), 'age': 20, 'sal': [24.5, 48.56]}\n"
     ]
    }
   ],
   "source": [
    "t={'name':('ramu','suresh','lls'),'age':20,'sal':[24.500,48.560]}\n",
    "print(t)"
   ]
  },
  {
   "cell_type": "code",
   "execution_count": 18,
   "metadata": {},
   "outputs": [
    {
     "name": "stdout",
     "output_type": "stream",
     "text": [
      "24.5\n"
     ]
    }
   ],
   "source": [
    "print(t['sal'][0])"
   ]
  },
  {
   "cell_type": "code",
   "execution_count": 19,
   "metadata": {},
   "outputs": [
    {
     "name": "stdout",
     "output_type": "stream",
     "text": [
      "['__class__', '__contains__', '__delattr__', '__delitem__', '__dir__', '__doc__', '__eq__', '__format__', '__ge__', '__getattribute__', '__getitem__', '__gt__', '__hash__', '__init__', '__init_subclass__', '__iter__', '__le__', '__len__', '__lt__', '__ne__', '__new__', '__reduce__', '__reduce_ex__', '__repr__', '__reversed__', '__setattr__', '__setitem__', '__sizeof__', '__str__', '__subclasshook__', 'clear', 'copy', 'fromkeys', 'get', 'items', 'keys', 'pop', 'popitem', 'setdefault', 'update', 'values']\n"
     ]
    }
   ],
   "source": [
    "print(dir(dict))"
   ]
  },
  {
   "cell_type": "code",
   "execution_count": 20,
   "metadata": {},
   "outputs": [
    {
     "name": "stdout",
     "output_type": "stream",
     "text": [
      "dict_keys(['name', 'age', 'sal'])\n"
     ]
    }
   ],
   "source": [
    "print(t.keys())"
   ]
  },
  {
   "cell_type": "code",
   "execution_count": 21,
   "metadata": {},
   "outputs": [
    {
     "name": "stdout",
     "output_type": "stream",
     "text": [
      "dict_values([('ramu', 'suresh', 'lls'), 20, [24.5, 48.56]])\n"
     ]
    }
   ],
   "source": [
    "print(t.values())"
   ]
  },
  {
   "cell_type": "code",
   "execution_count": 22,
   "metadata": {},
   "outputs": [
    {
     "name": "stdout",
     "output_type": "stream",
     "text": [
      "{'name': 'tilak', 'age': [45, 59], 'sal': 0}\n"
     ]
    }
   ],
   "source": [
    "y={'name':\"tilak\",\"age\":[45,59],\"sal\":0}\n",
    "print(y)"
   ]
  },
  {
   "cell_type": "code",
   "execution_count": 23,
   "metadata": {},
   "outputs": [
    {
     "name": "stdout",
     "output_type": "stream",
     "text": [
      "dict_items([('name', ('ramu', 'suresh', 'lls')), ('age', 20), ('sal', [24.5, 48.56])])\n"
     ]
    }
   ],
   "source": [
    "print(t.items())\n"
   ]
  },
  {
   "cell_type": "code",
   "execution_count": null,
   "metadata": {},
   "outputs": [],
   "source": [
    "[(key,value),(),()]"
   ]
  },
  {
   "cell_type": "code",
   "execution_count": 26,
   "metadata": {},
   "outputs": [
    {
     "name": "stdout",
     "output_type": "stream",
     "text": [
      "('ramu', 'suresh', 'lls')\n",
      "20\n",
      "None\n"
     ]
    }
   ],
   "source": [
    "print(t.get('name'))\n",
    "print(t.get('age'))\n",
    "print(t.get('no'))"
   ]
  },
  {
   "cell_type": "code",
   "execution_count": 27,
   "metadata": {},
   "outputs": [
    {
     "name": "stdout",
     "output_type": "stream",
     "text": [
      "{'name': ('ramu', 'suresh', 'lls'), 'age': 20, 'sal': [24.5, 48.56]}\n"
     ]
    }
   ],
   "source": [
    "print(t)"
   ]
  },
  {
   "cell_type": "code",
   "execution_count": 28,
   "metadata": {},
   "outputs": [
    {
     "name": "stdout",
     "output_type": "stream",
     "text": [
      "{'name': ('ramu', 'suresh', 'lls'), 'age': 20, 'sal': [24.5, 48.56]}\n",
      "{'name': ('ramu', 'suresh', 'lls'), 'age': 20, 'sal': [24.5, 48.56], 'no': [12, 78, 89, 450]}\n"
     ]
    }
   ],
   "source": [
    "print(t)\n",
    "t['no']=[12,78,89,450]\n",
    "print(t)"
   ]
  },
  {
   "cell_type": "code",
   "execution_count": 29,
   "metadata": {},
   "outputs": [
    {
     "name": "stdout",
     "output_type": "stream",
     "text": [
      "{'name': ('ramu', 'suresh', 'lls'), 'age': 20, 'sal': [24.5, 48.56], 'no': [12, 78, 89, 450]}\n",
      "{'name': ('ramu', 'suresh', 'lls'), 'age': 20, 'sal': [24.5, 48.56], 'no': 'yamini'}\n"
     ]
    }
   ],
   "source": [
    "print(t)\n",
    "t['no']='yamini'\n",
    "print(t)"
   ]
  },
  {
   "cell_type": "code",
   "execution_count": 30,
   "metadata": {},
   "outputs": [
    {
     "name": "stdout",
     "output_type": "stream",
     "text": [
      "{'name': ('ramu', 'suresh', 'lls'), 'age': 20, 'sal': [24.5, 48.56], 'no': 'yamini'}\n",
      "{'name': ('ramu', 'suresh', 'lls'), 'age': 20, 'sal': [24.5, 48.56], 'no': 'yamini', 'tr': None}\n"
     ]
    }
   ],
   "source": [
    "print(t)\n",
    "t.setdefault('tr')\n",
    "print(t)"
   ]
  },
  {
   "cell_type": "code",
   "execution_count": 32,
   "metadata": {},
   "outputs": [
    {
     "name": "stdout",
     "output_type": "stream",
     "text": [
      "{'name': ('ramu', 'suresh', 'lls'), 'age': 20, 'sal': [24.5, 48.56], 'no': 'yamini', 'tr': None}\n",
      "{'name': ('ramu', 'suresh', 'lls'), 'age': 20, 'sal': [24.5, 48.56], 'no': 'yamini', 'tr': 45}\n"
     ]
    }
   ],
   "source": [
    "print(t)\n",
    "t.update({'tr':45})\n",
    "print(t)"
   ]
  },
  {
   "cell_type": "code",
   "execution_count": 33,
   "metadata": {},
   "outputs": [
    {
     "name": "stdout",
     "output_type": "stream",
     "text": [
      "{'name': ('ramu', 'suresh', 'lls'), 'age': 20, 'sal': [24.5, 48.56], 'no': 'yamini', 'tr': 45}\n"
     ]
    }
   ],
   "source": [
    "print(t)"
   ]
  },
  {
   "cell_type": "code",
   "execution_count": 34,
   "metadata": {},
   "outputs": [
    {
     "name": "stdout",
     "output_type": "stream",
     "text": [
      "None\n"
     ]
    }
   ],
   "source": [
    "print(t.update({'tr':'ramu'}))"
   ]
  },
  {
   "cell_type": "code",
   "execution_count": 35,
   "metadata": {},
   "outputs": [
    {
     "name": "stdout",
     "output_type": "stream",
     "text": [
      "{'name': ('ramu', 'suresh', 'lls'), 'age': 20, 'sal': [24.5, 48.56], 'no': 'yamini', 'tr': 'ramu'}\n"
     ]
    }
   ],
   "source": [
    "print(t)"
   ]
  },
  {
   "cell_type": "code",
   "execution_count": 36,
   "metadata": {},
   "outputs": [
    {
     "name": "stdout",
     "output_type": "stream",
     "text": [
      "{'name': ('ramu', 'suresh', 'lls'), 'age': 20, 'sal': [24.5, 48.56], 'no': 'yamini', 'tr': 'ramu'}\n",
      "20\n",
      "{'name': ('ramu', 'suresh', 'lls'), 'sal': [24.5, 48.56], 'no': 'yamini', 'tr': 'ramu'}\n"
     ]
    }
   ],
   "source": [
    "print(t)\n",
    "print(t.pop('age'))\n",
    "print(t)"
   ]
  },
  {
   "cell_type": "code",
   "execution_count": 38,
   "metadata": {},
   "outputs": [
    {
     "name": "stdout",
     "output_type": "stream",
     "text": [
      "{'name': ('ramu', 'suresh', 'lls'), 'sal': [24.5, 48.56], 'no': 'yamini', 'tr': 'ramu'}\n",
      "('tr', 'ramu')\n",
      "{'name': ('ramu', 'suresh', 'lls'), 'sal': [24.5, 48.56], 'no': 'yamini'}\n"
     ]
    }
   ],
   "source": [
    "print(t)\n",
    "print(t.popitem())\n",
    "print(t)"
   ]
  },
  {
   "cell_type": "code",
   "execution_count": 42,
   "metadata": {},
   "outputs": [
    {
     "name": "stdout",
     "output_type": "stream",
     "text": [
      "['name', 'age', 'sal']\n",
      "[12, 45, 78, 98, 45]\n",
      "{'name': 34, 'donor': 45}\n",
      "['name', 'age', 'sal']\n",
      "[12, 45, 78, 98, 45]\n"
     ]
    }
   ],
   "source": [
    "q=['name','age','sal']\n",
    "w=[12,45,78,98,45]\n",
    "print(q)\n",
    "print(w)\n",
    "f={'name':34,'donor':45}\n",
    "f.fromkeys(q)\n",
    "f.fromkeys(w)\n",
    "print(f)\n",
    "print(q)\n",
    "print(w)\n",
    "# syntax:fromkeys([],values)"
   ]
  },
  {
   "cell_type": "code",
   "execution_count": 4,
   "metadata": {},
   "outputs": [
    {
     "name": "stdout",
     "output_type": "stream",
     "text": [
      "{'Maths': [0, 45], 'Python': [0, 45], 'C++': [0, 45]}\n",
      "{'Maths': [0, 45], 'Python': [0, 45], 'C++': [0, 45]}\n"
     ]
    }
   ],
   "source": [
    "marks={}.fromkeys([\"Maths\",\"Python\",\"C++\"],[0,45])\n",
    "print(marks)"
   ]
  },
  {
   "cell_type": "code",
   "execution_count": null,
   "metadata": {},
   "outputs": [],
   "source": []
  }
 ],
 "metadata": {
  "kernelspec": {
   "display_name": "Python 3",
   "language": "python",
   "name": "python3"
  },
  "language_info": {
   "codemirror_mode": {
    "name": "ipython",
    "version": 3
   },
   "file_extension": ".py",
   "mimetype": "text/x-python",
   "name": "python",
   "nbconvert_exporter": "python",
   "pygments_lexer": "ipython3",
   "version": "3.8.5"
  }
 },
 "nbformat": 4,
 "nbformat_minor": 4
}
