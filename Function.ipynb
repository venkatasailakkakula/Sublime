{
 "cells": [
  {
   "cell_type": "code",
   "execution_count": 8,
   "metadata": {},
   "outputs": [
    {
     "name": "stdout",
     "output_type": "stream",
     "text": [
      "987654\n",
      "Given number is: 987654\n",
      "Even numbers are: 8 6 4\n",
      "Odd numbers are: 9 7 5\n",
      "Left half of even numbers are: 8 6 4\n",
      "Right half of even numbers are:\n",
      "Left half Even number sum is: 18\n",
      "Right half Even number sum is: 0\n"
     ]
    }
   ],
   "source": [
    "def fun(n):\n",
    "    print(\"Given number is:\",n)\n",
    "    l=len(str(n))\n",
    "    count=0\n",
    "    even=[]\n",
    "    odd=[]\n",
    "    leftEven=[]\n",
    "    rightEven=[]\n",
    "    while(n>0):\n",
    "        a=n%10\n",
    "        n=n//10\n",
    "        count+=1\n",
    "        if(a%2==0):\n",
    "            even.append(a)\n",
    "            if(count<=1/2):\n",
    "                rightEven.append(a)\n",
    "            else:\n",
    "                leftEven.append(a)\n",
    "        else:\n",
    "            odd.append(a)\n",
    "    print(\"Even numbers are:\",*reversed(even))\n",
    "    print(\"Odd numbers are:\",*reversed(odd))\n",
    "    print(\"Left half of even numbers are:\",*reversed(leftEven))\n",
    "    print(\"Right half of even numbers are:\",*reversed(rightEven))\n",
    "    print(\"Left half Even number sum is:\",sum(leftEven))\n",
    "    print(\"Right half Even number sum is:\",sum(rightEven))\n",
    "n=int(input())\n",
    "fun(n)"
   ]
  },
  {
   "cell_type": "code",
   "execution_count": null,
   "metadata": {},
   "outputs": [],
   "source": []
  },
  {
   "cell_type": "code",
   "execution_count": null,
   "metadata": {},
   "outputs": [],
   "source": []
  }
 ],
 "metadata": {
  "kernelspec": {
   "display_name": "Python 3",
   "language": "python",
   "name": "python3"
  },
  "language_info": {
   "codemirror_mode": {
    "name": "ipython",
    "version": 3
   },
   "file_extension": ".py",
   "mimetype": "text/x-python",
   "name": "python",
   "nbconvert_exporter": "python",
   "pygments_lexer": "ipython3",
   "version": "3.8.5"
  }
 },
 "nbformat": 4,
 "nbformat_minor": 4
}
