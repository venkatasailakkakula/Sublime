{
 "cells": [
  {
   "cell_type": "markdown",
   "metadata": {},
   "source": [
    "# Files Packages and Modules:\n"
   ]
  },
  {
   "cell_type": "markdown",
   "metadata": {},
   "source": [
    "## Files:\n",
    "\n",
    "  - To store values or data in permanently\n",
    "  \n",
    "  - File formats .py,.txt,.java,.csv\n",
    "  \n",
    "  - 3 Modes\n",
    "       \n",
    "       - Read -> r -> if file doesnot exists it displays an error.If file exists it reads the data in a file\n",
    "       - Write-> w -> if file doesnot exists it creates a file with user defined filename.If file exists it writes to a file.\n",
    "                       Previous data will be erased and new data will be added.\n",
    "       - Append -> a ->if file doesnot exists it creates a file with user defined filename.If file exits it writes to a file.\n",
    "                       It will adds new data for existing ones.\n",
    "       - Execute -> x ->If the file is not exist with filename then it creates a file with user defined filename.\n",
    "       "
   ]
  },
  {
   "cell_type": "code",
   "execution_count": 11,
   "metadata": {},
   "outputs": [],
   "source": [
    "with open(\"Rawdata/sample.text\",'w') as ft:\n",
    "    ft.write(\"Hello Good Evening Welcome to python internship\")"
   ]
  },
  {
   "cell_type": "code",
   "execution_count": 17,
   "metadata": {},
   "outputs": [
    {
     "name": "stdout",
     "output_type": "stream",
     "text": [
      "Hello Good Evening Welcome to python internship\n",
      "\n",
      "Welcome to APSSDC Programs\n",
      "Welcome to APSSDC Programs\n"
     ]
    }
   ],
   "source": [
    "with open(\"Rawdata/sample.text\",'r') as fr:\n",
    "    print(fr.read())"
   ]
  },
  {
   "cell_type": "code",
   "execution_count": 34,
   "metadata": {},
   "outputs": [],
   "source": [
    "with open(\"Rawdata/sample.text\",'a') as fa:\n",
    "    fa.write(\"Welcome to APSSDC Programs\")"
   ]
  },
  {
   "cell_type": "code",
   "execution_count": 35,
   "metadata": {},
   "outputs": [],
   "source": [
    "with open(\"Rawdata2/demo.text\",'w') as d:\n",
    "    d.write(\"Hi this is files concept\")"
   ]
  },
  {
   "cell_type": "code",
   "execution_count": 38,
   "metadata": {},
   "outputs": [
    {
     "name": "stdout",
     "output_type": "stream",
     "text": [
      "Hi this is files concept\n",
      "We are learning read,write and append\n"
     ]
    }
   ],
   "source": [
    "with open(\"Rawdata2/demo.text\",'r') as e:\n",
    "    print(e.read())"
   ]
  },
  {
   "cell_type": "code",
   "execution_count": 37,
   "metadata": {},
   "outputs": [],
   "source": [
    "with open(\"Rawdata2/demo.text\",'a') as f:\n",
    "    f.write(\"\\nWe are learning read,write and append\")"
   ]
  },
  {
   "cell_type": "code",
   "execution_count": 40,
   "metadata": {},
   "outputs": [
    {
     "ename": "FileExistsError",
     "evalue": "[Errno 17] File exists: 'Rawdata/sample2.text'",
     "output_type": "error",
     "traceback": [
      "\u001b[1;31m---------------------------------------------------------------------------\u001b[0m",
      "\u001b[1;31mFileExistsError\u001b[0m                           Traceback (most recent call last)",
      "\u001b[1;32m<ipython-input-40-4439b045c79d>\u001b[0m in \u001b[0;36m<module>\u001b[1;34m\u001b[0m\n\u001b[1;32m----> 1\u001b[1;33m \u001b[1;32mwith\u001b[0m \u001b[0mopen\u001b[0m\u001b[1;33m(\u001b[0m\u001b[1;34m\"Rawdata/sample2.text\"\u001b[0m\u001b[1;33m,\u001b[0m\u001b[1;34m'x'\u001b[0m\u001b[1;33m)\u001b[0m \u001b[1;32mas\u001b[0m \u001b[0mg\u001b[0m\u001b[1;33m:\u001b[0m\u001b[1;33m\u001b[0m\u001b[1;33m\u001b[0m\u001b[0m\n\u001b[0m\u001b[0;32m      2\u001b[0m     \u001b[1;32mwith\u001b[0m \u001b[0mopen\u001b[0m\u001b[1;33m(\u001b[0m\u001b[1;34m\"Rawdata/sample.text\"\u001b[0m\u001b[1;33m,\u001b[0m\u001b[1;34m'w'\u001b[0m\u001b[1;33m)\u001b[0m \u001b[1;32mas\u001b[0m \u001b[0mh\u001b[0m\u001b[1;33m:\u001b[0m\u001b[1;33m\u001b[0m\u001b[1;33m\u001b[0m\u001b[0m\n\u001b[0;32m      3\u001b[0m         \u001b[0mh\u001b[0m\u001b[1;33m.\u001b[0m\u001b[0mwrite\u001b[0m\u001b[1;33m(\u001b[0m\u001b[1;34m\"Welcome Ramu\"\u001b[0m\u001b[1;33m)\u001b[0m\u001b[1;33m\u001b[0m\u001b[1;33m\u001b[0m\u001b[0m\n",
      "\u001b[1;31mFileExistsError\u001b[0m: [Errno 17] File exists: 'Rawdata/sample2.text'"
     ]
    }
   ],
   "source": [
    "with open(\"Rawdata/sample2.text\",'x') as g:\n",
    "    with open(\"Rawdata/sample.text\",'w') as h:\n",
    "        h.write(\"Welcome Ramu\")"
   ]
  },
  {
   "cell_type": "code",
   "execution_count": 1,
   "metadata": {},
   "outputs": [
    {
     "name": "stdout",
     "output_type": "stream",
     "text": [
      "Enter a range: 5\n",
      "Enter a name: lls\n",
      "Enter a name: sai\n",
      "Enter a name: tilak\n",
      "Enter a name: kumar\n",
      "Enter a name: yadav\n"
     ]
    }
   ],
   "source": [
    "with open(\"rawdata/Names.csv\",'w') as y:\n",
    "    n=int(input(\"Enter a range: \"))\n",
    "    for i in range(1,n+1):\n",
    "        m=input(\"Enter a name: \")\n",
    "        y.write(m+'\\n')"
   ]
  },
  {
   "cell_type": "code",
   "execution_count": 2,
   "metadata": {},
   "outputs": [
    {
     "name": "stdout",
     "output_type": "stream",
     "text": [
      "['_CHUNK_SIZE', '__class__', '__del__', '__delattr__', '__dict__', '__dir__', '__doc__', '__enter__', '__eq__', '__exit__', '__format__', '__ge__', '__getattribute__', '__gt__', '__hash__', '__init__', '__init_subclass__', '__iter__', '__le__', '__lt__', '__ne__', '__new__', '__next__', '__reduce__', '__reduce_ex__', '__repr__', '__setattr__', '__sizeof__', '__str__', '__subclasshook__', '_checkClosed', '_checkReadable', '_checkSeekable', '_checkWritable', '_finalizing', 'buffer', 'close', 'closed', 'detach', 'encoding', 'errors', 'fileno', 'flush', 'isatty', 'line_buffering', 'mode', 'name', 'newlines', 'read', 'readable', 'readline', 'readlines', 'reconfigure', 'seek', 'seekable', 'tell', 'truncate', 'writable', 'write', 'write_through', 'writelines']\n"
     ]
    }
   ],
   "source": [
    "print(dir(y))"
   ]
  },
  {
   "cell_type": "code",
   "execution_count": 6,
   "metadata": {},
   "outputs": [
    {
     "name": "stdout",
     "output_type": "stream",
     "text": [
      "['lls', 'sai', 'tilak', 'kumar', 'yadav']\n"
     ]
    }
   ],
   "source": [
    "with open('rawdata/Names.csv','r') as k:\n",
    "    s=k.readlines()\n",
    "    q=[]\n",
    "    for v in s:\n",
    "        q.append(v.split('\\n')[0])\n",
    "    print(q)"
   ]
  },
  {
   "cell_type": "code",
   "execution_count": 9,
   "metadata": {},
   "outputs": [
    {
     "name": "stdout",
     "output_type": "stream",
     "text": [
      "enter range20\n"
     ]
    }
   ],
   "source": [
    "with open(\"Rawdata/input.text\",'w') as fw:\n",
    "    fw.write(input(\"enter range\"))"
   ]
  },
  {
   "cell_type": "code",
   "execution_count": 16,
   "metadata": {},
   "outputs": [],
   "source": [
    "with open(\"Rawdata/input.text\",'r') as g:\n",
    "    f=g.readlines()\n",
    "    with open(\"Rawdata/output.text\",'w') as wy:\n",
    "        wy.write(\"Entered number is: {}\\n\".format(f[0]))\n",
    "        x=[]\n",
    "        for i in range(1,int(f[0])+1):\n",
    "            if i%2==0:\n",
    "                h=str(i)+\",\"\n",
    "                x.append(h)\n",
    "        t=\" \".join(x)\n",
    "        wy.write(\"Even numbers in range {} is : {}\".format(f[0],t))\n",
    "    "
   ]
  },
  {
   "cell_type": "code",
   "execution_count": null,
   "metadata": {},
   "outputs": [],
   "source": []
  }
 ],
 "metadata": {
  "kernelspec": {
   "display_name": "Python 3",
   "language": "python",
   "name": "python3"
  },
  "language_info": {
   "codemirror_mode": {
    "name": "ipython",
    "version": 3
   },
   "file_extension": ".py",
   "mimetype": "text/x-python",
   "name": "python",
   "nbconvert_exporter": "python",
   "pygments_lexer": "ipython3",
   "version": "3.8.5"
  }
 },
 "nbformat": 4,
 "nbformat_minor": 4
}
