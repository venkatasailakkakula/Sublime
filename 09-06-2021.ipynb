{
 "cells": [
  {
   "cell_type": "markdown",
   "metadata": {},
   "source": [
    "# Django:\n",
    "\n",
    "  - it is external module in python,so that we have to install\n",
    "  \n",
    "  - it is web development framework code in python\n",
    "  \n",
    "  - while developing this django they follwed a design pattern MVT(Model View Template).\n",
    "  \n",
    "### MVC:\n",
    "\n",
    "  M - Model\n",
    "  \n",
    "    - it will store logics related database\n",
    "  \n",
    "  V - View\n",
    "  \n",
    "    - it will store into related UI(User Interface)\n",
    "  \n",
    "  C - Controller\n",
    "  \n",
    "    - it will logics main logics\n",
    "\n"
   ]
  },
  {
   "cell_type": "markdown",
   "metadata": {},
   "source": [
    "\n",
    "### MVT:\n",
    "\n",
    "  M - Model\n",
    "  \n",
    "    - it will store logics related database\n",
    "    \n",
    "  V - View\n",
    "  \n",
    "    - it will work like a controller\n",
    "    \n",
    "  T - Template\n",
    "  \n",
    "    - it will store into related UI(User Interface)"
   ]
  },
  {
   "cell_type": "markdown",
   "metadata": {},
   "source": [
    "### required softwares:\n",
    "\n",
    "  - install django\n",
    "\n",
    "    - to install django,you have to run a cmd in command prompt\n",
    "    \n",
    "      - ''' pip install django '''\n",
    "                \n",
    "                or\n",
    "                \n",
    "       - ''' pip install django == version\n",
    "  - install any toll(sublime,atom,pycharm,notepadd++,visual studio)"
   ]
  },
  {
   "cell_type": "markdown",
   "metadata": {},
   "source": [
    "### Project creation\n",
    "\n",
    "  - we have to choose a project location\n",
    "  \n",
    "  - then we have to open cmd from that project location\n",
    "  \n",
    "  - to create a project we have to run cmd i.e.,\n",
    "  \n",
    "    - '''django-admin startproject project name'''\n",
    "       \n",
    "       ex:django-admin startproject FirstProject"
   ]
  },
  {
   "cell_type": "markdown",
   "metadata": {},
   "source": [
    "### run project\n",
    "\n",
    "  - we have to open cmd from inside project location\n",
    "    \n",
    "  - then run a cmd to run our project server\n",
    "\n",
    "    - ''' python manage.py runserver'''"
   ]
  },
  {
   "cell_type": "code",
   "execution_count": null,
   "metadata": {},
   "outputs": [],
   "source": []
  }
 ],
 "metadata": {
  "kernelspec": {
   "display_name": "Python 3",
   "language": "python",
   "name": "python3"
  },
  "language_info": {
   "codemirror_mode": {
    "name": "ipython",
    "version": 3
   },
   "file_extension": ".py",
   "mimetype": "text/x-python",
   "name": "python",
   "nbconvert_exporter": "python",
   "pygments_lexer": "ipython3",
   "version": "3.8.5"
  }
 },
 "nbformat": 4,
 "nbformat_minor": 4
}
