{
 "cells": [
  {
   "cell_type": "code",
   "execution_count": 1,
   "metadata": {},
   "outputs": [
    {
     "name": "stdout",
     "output_type": "stream",
     "text": [
      "Enter your name:lls\n",
      "Enter your mobile number:7075573254\n",
      "{'lls': 7075573254}\n"
     ]
    }
   ],
   "source": [
    "k=input(\"Enter your name:\")\n",
    "n=int(input(\"Enter your mobile number:\"))\n",
    "m={}\n",
    "m[k]=n\n",
    "print(m)"
   ]
  },
  {
   "cell_type": "markdown",
   "metadata": {},
   "source": [
    "# Functions:\n",
    "   \n",
    "   - To perform a specific task\n",
    "   \n",
    "   - Reuseability of code\n",
    "   \n",
    "   - Number of lines can be decreased\n",
    "   \n",
    "   - Predefined Functions,Userdefined Functions\n",
    "   "
   ]
  },
  {
   "cell_type": "markdown",
   "metadata": {},
   "source": [
    "## Predefined Functions:\n",
    "\n",
    "   - Already work has been allocated for it   \n",
    "   \n",
    "   - print(),range(),int(),str(),max()"
   ]
  },
  {
   "cell_type": "markdown",
   "metadata": {},
   "source": [
    "## User Defined Functions:\n",
    "\n",
    "   - we need to allocate for a function\n",
    "   \n",
    "   - syntax: \n",
    "         def function_name(arguments):\n",
    "              //statements\n",
    "              return return_value"
   ]
  },
  {
   "cell_type": "markdown",
   "metadata": {},
   "source": [
    "### Types of Functions:\n",
    "\n",
    "   - with return type and with arguments\n",
    "   \n",
    "   - with return type and without arguments\n",
    "   \n",
    "   - without return type and with arguments\n",
    "   \n",
    "   - without return type and without arguments"
   ]
  },
  {
   "cell_type": "code",
   "execution_count": 7,
   "metadata": {},
   "outputs": [
    {
     "name": "stdout",
     "output_type": "stream",
     "text": [
      "20\n",
      "1 2 3 4 5 6 7 8 9 10 11 12 13 14 15 16 17 18 19 20 "
     ]
    }
   ],
   "source": [
    "# with return type and with arguments\n",
    "# Reading -Main\n",
    "# Printing-Main\n",
    "# Logic - Function\n",
    "\n",
    "\n",
    "def printnumbers(k):\n",
    "    j=[]\n",
    "    for b in range(1,k+1):\n",
    "        j.append(b)\n",
    "    return j\n",
    "n=int(input())\n",
    "for z in range(1,len(printnumbers(n))+1):\n",
    "    print(z,end=\" \")\n"
   ]
  },
  {
   "cell_type": "code",
   "execution_count": 12,
   "metadata": {},
   "outputs": [
    {
     "name": "stdout",
     "output_type": "stream",
     "text": [
      "20\n",
      "[2, 4, 6, 8, 10, 12, 14, 16, 18, 20]\n"
     ]
    }
   ],
   "source": [
    "# with return type and without arguments\n",
    "# Reading - Function\n",
    "# Printing-Main\n",
    "# Logic - Function\n",
    "\n",
    "\n",
    "def evennumbers():\n",
    "    k,c=int(input()),[]\n",
    "    for i in range(1,k+1):\n",
    "        if(i%2==0):\n",
    "            c.append(i)\n",
    "    return c\n",
    "\n",
    "print(evennumbers())\n"
   ]
  },
  {
   "cell_type": "code",
   "execution_count": 14,
   "metadata": {},
   "outputs": [
    {
     "name": "stdout",
     "output_type": "stream",
     "text": [
      "15\n",
      "2 4 6 8 10 12 14 "
     ]
    }
   ],
   "source": [
    "def evennumbers():\n",
    "    k,c=int(input()),[]\n",
    "    for i in range(1,k+1):\n",
    "        if(i%2==0):\n",
    "            c.append(i)\n",
    "    return c\n",
    "d=evennumbers()\n",
    "for b in d:\n",
    "    print(b,end=\" \")"
   ]
  },
  {
   "cell_type": "code",
   "execution_count": 15,
   "metadata": {},
   "outputs": [
    {
     "name": "stdout",
     "output_type": "stream",
     "text": [
      "10\n",
      "1 3 5 7 9 "
     ]
    }
   ],
   "source": [
    "# without return type and with arguments\n",
    "# Reading -Main\n",
    "# Printing - Function\n",
    "# Logic - Function\n",
    "\n",
    "\n",
    "def oddnumbers(m):\n",
    "    for i in range(1,m+1):\n",
    "        if(i%2!=0):\n",
    "            print(i,end=\" \")\n",
    "    return\n",
    "b=int(input())\n",
    "oddnumbers(b)"
   ]
  },
  {
   "cell_type": "code",
   "execution_count": 16,
   "metadata": {},
   "outputs": [
    {
     "name": "stdout",
     "output_type": "stream",
     "text": [
      "5\n",
      "20\n",
      "2\n",
      "5 7 9 11 13 15 17 19 "
     ]
    }
   ],
   "source": [
    "# without return type and without arguments\n",
    "# Reading - Function\n",
    "# Printing - Function\n",
    "# Logic - Function\n",
    "\n",
    "def skippingvalues():\n",
    "    n=int(input())\n",
    "    m=int(input())\n",
    "    s=int(input())\n",
    "    for j in range(n,m,s):\n",
    "        print(j,end=\" \")\n",
    "    return\n",
    "skippingvalues()"
   ]
  },
  {
   "cell_type": "code",
   "execution_count": null,
   "metadata": {},
   "outputs": [],
   "source": [
    "def evenodd(n):\n",
    "    c=[]\n",
    "    d=[]\n",
    "    for i in m:\n",
    "        if(i%2==0):\n",
    "            c.append(i)\n",
    "        else:\n",
    "            d.append(i)\n",
    "        print(\"given nuber:\",n)\n",
    "        print(\"Even numbers are :\",c)\n",
    "        print(\"Odd numbers are :\",d)\n",
    "n=int(input())\n",
    "evenodd(n)"
   ]
  },
  {
   "cell_type": "markdown",
   "metadata": {},
   "source": [
    "## Arguments Types:\n",
    "\n",
    "   - Required arguments or positionl arguments\n",
    "   \n",
    "   - Default arguments\n",
    "   \n",
    "   - Keyword arguments\n",
    "   \n",
    "   - Variable Length arguments"
   ]
  },
  {
   "cell_type": "code",
   "execution_count": 7,
   "metadata": {},
   "outputs": [
    {
     "name": "stdout",
     "output_type": "stream",
     "text": [
      "Enter a name: lls\n",
      "Enter an age: 20\n"
     ]
    },
    {
     "ename": "TypeError",
     "evalue": "student() missing 1 required positional argument: 'p'",
     "output_type": "error",
     "traceback": [
      "\u001b[1;31m---------------------------------------------------------------------------\u001b[0m",
      "\u001b[1;31mTypeError\u001b[0m                                 Traceback (most recent call last)",
      "\u001b[1;32m<ipython-input-7-08c10053cdf9>\u001b[0m in \u001b[0;36m<module>\u001b[1;34m\u001b[0m\n\u001b[0;32m      7\u001b[0m \u001b[0mname\u001b[0m\u001b[1;33m=\u001b[0m\u001b[0minput\u001b[0m\u001b[1;33m(\u001b[0m\u001b[1;34m\"Enter a name: \"\u001b[0m\u001b[1;33m)\u001b[0m\u001b[1;33m\u001b[0m\u001b[1;33m\u001b[0m\u001b[0m\n\u001b[0;32m      8\u001b[0m \u001b[0mage\u001b[0m\u001b[1;33m=\u001b[0m\u001b[0mint\u001b[0m\u001b[1;33m(\u001b[0m\u001b[0minput\u001b[0m\u001b[1;33m(\u001b[0m\u001b[1;34m\"Enter an age: \"\u001b[0m\u001b[1;33m)\u001b[0m\u001b[1;33m)\u001b[0m\u001b[1;33m\u001b[0m\u001b[1;33m\u001b[0m\u001b[0m\n\u001b[1;32m----> 9\u001b[1;33m \u001b[0mstudent\u001b[0m\u001b[1;33m(\u001b[0m\u001b[0mname\u001b[0m\u001b[1;33m,\u001b[0m\u001b[0mage\u001b[0m\u001b[1;33m)\u001b[0m\u001b[1;33m\u001b[0m\u001b[1;33m\u001b[0m\u001b[0m\n\u001b[0m",
      "\u001b[1;31mTypeError\u001b[0m: student() missing 1 required positional argument: 'p'"
     ]
    }
   ],
   "source": [
    "# Required arguments\n",
    "\n",
    "def student(n,a,p):\n",
    "    print(\"Your name is: {} \\n your age is: {}\".format(n,a,p))\n",
    "    return\n",
    "\n",
    "name=input(\"Enter a name: \")\n",
    "age=int(input(\"Enter an age: \"))\n",
    "student(name,age)"
   ]
  },
  {
   "cell_type": "code",
   "execution_count": 12,
   "metadata": {},
   "outputs": [
    {
     "name": "stdout",
     "output_type": "stream",
     "text": [
      "Enter Employee name: lucky\n",
      "Enter Employee Age: 19\n",
      "employee name is: lucky\n",
      " emplyee age is: 19\n",
      " employee salary is: 45000\n"
     ]
    }
   ],
   "source": [
    "# Default arguments\n",
    "\n",
    "def employee(k,p,s=45000):\n",
    "    print(\"employee name is: {}\\n emplyee age is: {}\\n employee salary is: {}\".format(k,p,s))\n",
    "    return\n",
    "\n",
    "n=input(\"Enter Employee name: \")\n",
    "m=int(input(\"Enter Employee Age: \"))\n",
    "employee(n,m)"
   ]
  },
  {
   "cell_type": "code",
   "execution_count": 14,
   "metadata": {},
   "outputs": [
    {
     "name": "stdout",
     "output_type": "stream",
     "text": [
      "Enter your name:lls\n",
      "Enter your pursuing year:second year btech\n",
      "Name is: lls\n",
      " Pursuing year is: second year btech\n"
     ]
    }
   ],
   "source": [
    "def paceclg(n,m):\n",
    "    print(\"Name is: {}\\n Pursuing year is: {}\".format(n,m))\n",
    "    return\n",
    "\n",
    "k=input(\"Enter your name:\")\n",
    "p=input(\"Enter your pursuing year:\")\n",
    "paceclg(k,p)\n"
   ]
  },
  {
   "cell_type": "code",
   "execution_count": 22,
   "metadata": {},
   "outputs": [
    {
     "name": "stdout",
     "output_type": "stream",
     "text": [
      "Enter your collegename:pace\n",
      "Enter your year2019\n",
      "Your collge name is: pace\n",
      " Year is: 2019\n"
     ]
    }
   ],
   "source": [
    "# Keyword argument\n",
    "\n",
    "def college(year,cname):\n",
    "            \n",
    "    print(\"Your collge name is: {}\\n Year is: {}\".format(cname,year))\n",
    "    return\n",
    "\n",
    "college(cname=input(\"Enter your collegename:\"),year=int(input('Enter your year')))"
   ]
  },
  {
   "cell_type": "code",
   "execution_count": 26,
   "metadata": {},
   "outputs": [
    {
     "name": "stdout",
     "output_type": "stream",
     "text": [
      "50\n",
      "467 4878\n",
      "577\n",
      "50 <class 'int'>\n",
      "('467 4878', '577') <class 'tuple'>\n"
     ]
    }
   ],
   "source": [
    "# Variable Length arguments\n",
    "\n",
    "def number(m,*n):\n",
    "    print(m,type(m))\n",
    "    print(n,type(n))\n",
    "    return\n",
    "\n",
    "b=int(input())\n",
    "k=input()\n",
    "g=input()\n",
    "number(b,k,g)"
   ]
  },
  {
   "cell_type": "code",
   "execution_count": 2,
   "metadata": {},
   "outputs": [
    {
     "name": "stdout",
     "output_type": "stream",
     "text": [
      "lls\n",
      "7075573254\n",
      "20\n",
      "50000\n",
      "{'name': (7075573254, 20, 50000)}\n"
     ]
    }
   ],
   "source": [
    "c={}\n",
    "def contact(name,*t):\n",
    "    c['name']=t\n",
    "    return c\n",
    "\n",
    "name=input()\n",
    "mobile=int(input())\n",
    "\n",
    "age=int(input())\n",
    "sal=int(input())\n",
    "contact(name,mobile,age,sal)\n",
    "print(c)"
   ]
  },
  {
   "cell_type": "code",
   "execution_count": null,
   "metadata": {},
   "outputs": [],
   "source": []
  },
  {
   "cell_type": "code",
   "execution_count": null,
   "metadata": {},
   "outputs": [],
   "source": []
  }
 ],
 "metadata": {
  "kernelspec": {
   "display_name": "Python 3",
   "language": "python",
   "name": "python3"
  }
 },
 "nbformat": 4,
 "nbformat_minor": 4
}
